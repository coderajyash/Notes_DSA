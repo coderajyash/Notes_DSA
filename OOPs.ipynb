{
 "cells": [
  {
   "cell_type": "markdown",
   "metadata": {},
   "source": [
    "## Building blocks of OOP\n",
    "The following are the essential concepts of object-oriented programming:\n",
    "- Attributes\n",
    "- Methods\n",
    "- Classes\n",
    "- Objects"
   ]
  },
  {
   "cell_type": "code",
   "execution_count": null,
   "metadata": {},
   "outputs": [],
   "source": [
    "#-------------------------Attribute vs Methods-------------------------\n",
    "\n",
    "class Car:\n",
    "    def __init__(self, color, speed):\n",
    "        self.color = color\n",
    "        self.speed = speed\n",
    "    \n",
    "    def accelerate(self, increase):  # Method\n",
    "        self.speed += increase\n",
    "        return self.speed\n",
    "\n",
    "my_car = Car(\"red\", 120)\n",
    "print(my_car.accelerate(20))"
   ]
  },
  {
   "cell_type": "markdown",
   "metadata": {},
   "source": []
  }
 ],
 "metadata": {
  "kernelspec": {
   "display_name": "base",
   "language": "python",
   "name": "python3"
  },
  "language_info": {
   "name": "python",
   "version": "3.11.4"
  }
 },
 "nbformat": 4,
 "nbformat_minor": 2
}
