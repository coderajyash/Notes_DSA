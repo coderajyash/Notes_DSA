{
 "cells": [
  {
   "cell_type": "markdown",
   "metadata": {},
   "source": [
    "## Building blocks of OOP\n",
    "The following are the essential concepts of object-oriented programming:\n",
    "- Attributes\n",
    "- Methods\n",
    "- Classes\n",
    "- Objects"
   ]
  },
  {
   "cell_type": "code",
   "execution_count": null,
   "metadata": {},
   "outputs": [],
   "source": [
    "#-------------------------Attribute vs Methods-------------------------\n",
    "\n",
    "class Car:\n",
    "    def __init__(self, color, speed):\n",
    "        self.color = color\n",
    "        self.speed = speed\n",
    "    \n",
    "    def accelerate(self, increase):  # Method\n",
    "        self.speed += increase\n",
    "        return self.speed\n",
    "\n",
    "my_car = Car(\"red\", 120)\n",
    "print(my_car.accelerate(20))"
   ]
  },
  {
   "cell_type": "markdown",
   "metadata": {},
   "source": [
    "## Principles of OOP\n",
    "The following are the four principles of object-oriented programming:\n",
    "- Encapsulation\n",
    "- Abstraction\n",
    "- Inheritance\n",
    "- Polymorphism"
   ]
  },
  {
   "cell_type": "markdown",
   "metadata": {},
   "source": [
    "#### Encapsulation\n",
    "Encapsulation is usually done to hide the state and representation of an object from the outside. A class can be thought of as a capsule with methods and attributes inside it.\n",
    "If the methods and variables are encapsulated in a class, how can they be used outside that class? The answer to this is simple. One has to implement public methods to let the outside world communicate with this class. These methods are called getters and setters. We can also implement other custom methods."
   ]
  },
  {
   "cell_type": "code",
   "execution_count": null,
   "metadata": {},
   "outputs": [],
   "source": [
    "class Movie:\n",
    "    def __init__(self, t=\"\", y=-1, g=\"\"):\n",
    "        self.__title = t\n",
    "        self.__year = y\n",
    "        self.__genre = g\n",
    "\n",
    "    def get_title(self):\n",
    "        return self.__title\n",
    "\n",
    "    def set_title(self, value):\n",
    "        self.__title = value\n",
    "\n",
    "    def get_year(self):\n",
    "        return self.__year\n",
    "\n",
    "    def set_year(self, value):\n",
    "        self.__year = value\n",
    "\n",
    "    def get_genre(self):\n",
    "        return self.__genre\n",
    "\n",
    "    def set_genre(self, value):\n",
    "        self.__genre = value\n",
    "\n",
    "    def print_details(self):\n",
    "        print(\"Title:\", self.get_title())\n",
    "        print(\"Year:\", self.get_year())\n",
    "        print(\"Genre:\", self.get_genre())\n",
    "\n",
    "def main():\n",
    "    movie = Movie(\"The Lion King\", 1994, \"Adventure\")\n",
    "    movie.print_details()\n",
    "\n",
    "    print(\"---\")\n",
    "    movie.set_title(\"Forrest Gump\")\n",
    "    print(\"New title:\", movie.get_title())\n",
    "\n",
    "if __name__ == \"__main__\":\n",
    "    main()"
   ]
  },
  {
   "cell_type": "markdown",
   "metadata": {},
   "source": []
  }
 ],
 "metadata": {
  "kernelspec": {
   "display_name": "base",
   "language": "python",
   "name": "python3"
  },
  "language_info": {
   "name": "python",
   "version": "3.11.4"
  }
 },
 "nbformat": 4,
 "nbformat_minor": 2
}
