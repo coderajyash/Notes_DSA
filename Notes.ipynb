{
 "cells": [
  {
   "cell_type": "markdown",
   "metadata": {},
   "source": [
    "STACK"
   ]
  },
  {
   "cell_type": "markdown",
   "metadata": {},
   "source": [
    "Using Class Implementation"
   ]
  },
  {
   "cell_type": "code",
   "execution_count": 1,
   "metadata": {},
   "outputs": [
    {
     "name": "stdout",
     "output_type": "stream",
     "text": [
      "20\n",
      "10\n",
      "False\n"
     ]
    }
   ],
   "source": [
    "class Stack:\n",
    "    def __init__(self):\n",
    "        self.stack = []\n",
    "\n",
    "    def push(self, item):\n",
    "        \"\"\"Add an item to the top of the stack\"\"\"\n",
    "        self.stack.append(item)\n",
    "\n",
    "    def pop(self):\n",
    "        \"\"\"Remove and return the top item from the stack\"\"\"\n",
    "        if not self.is_empty():\n",
    "            return self.stack.pop()\n",
    "        return \"Stack is empty\"\n",
    "\n",
    "    def peek(self):\n",
    "        \"\"\"Return the top item without removing it\"\"\"\n",
    "        if not self.is_empty():\n",
    "            return self.stack[-1]\n",
    "        return \"Stack is empty\"\n",
    "\n",
    "    def is_empty(self):\n",
    "        \"\"\"Check if stack is empty\"\"\"\n",
    "        return len(self.stack) == 0\n",
    "\n",
    "    def size(self):\n",
    "        \"\"\"Return the number of items in the stack\"\"\"\n",
    "        return len(self.stack)\n",
    "\n",
    "# Testing the stack\n",
    "s = Stack()\n",
    "s.push(10)\n",
    "s.push(20)\n",
    "print(s.pop())  # Output: 20\n",
    "print(s.peek()) # Output: 10\n",
    "print(s.is_empty()) # Output: False"
   ]
  },
  {
   "cell_type": "markdown",
   "metadata": {},
   "source": [
    "Using List as Stack\n",
    "- Inefficient as pop costs O(N)"
   ]
  },
  {
   "cell_type": "code",
   "execution_count": 2,
   "metadata": {},
   "outputs": [
    {
     "name": "stdout",
     "output_type": "stream",
     "text": [
      "20\n",
      "10\n"
     ]
    }
   ],
   "source": [
    "stack = []\n",
    "stack.append(10)  # Push\n",
    "stack.append(20)\n",
    "print(stack.pop())  # Pop (20)\n",
    "print(stack[-1])  # Peek (10)"
   ]
  },
  {
   "cell_type": "markdown",
   "metadata": {},
   "source": [
    "Using collections.deque\n",
    "- Efficient"
   ]
  },
  {
   "cell_type": "code",
   "execution_count": 3,
   "metadata": {},
   "outputs": [
    {
     "name": "stdout",
     "output_type": "stream",
     "text": [
      "20\n",
      "10\n"
     ]
    }
   ],
   "source": [
    "from collections import deque\n",
    "stack = deque()\n",
    "stack.append(10)\n",
    "stack.append(20)\n",
    "print(stack.pop())  # Pop (20)\n",
    "print(stack[-1])  # Peek (10)"
   ]
  },
  {
   "cell_type": "markdown",
   "metadata": {},
   "source": [
    "QUEUE"
   ]
  },
  {
   "cell_type": "markdown",
   "metadata": {},
   "source": [
    "Using collections.deque\n",
    "- Efficient"
   ]
  },
  {
   "cell_type": "code",
   "execution_count": 6,
   "metadata": {},
   "outputs": [
    {
     "name": "stdout",
     "output_type": "stream",
     "text": [
      "deque([20])\n"
     ]
    }
   ],
   "source": [
    "from collections import deque\n",
    "queue = deque()\n",
    "queue.append(10)\n",
    "queue.append(20)\n",
    "queue.popleft() #pops the first element\n",
    "print(queue)"
   ]
  },
  {
   "cell_type": "markdown",
   "metadata": {},
   "source": [
    "Using queue.Queue\n",
    "- For Multithreaded Applications"
   ]
  },
  {
   "cell_type": "code",
   "execution_count": 7,
   "metadata": {},
   "outputs": [
    {
     "name": "stdout",
     "output_type": "stream",
     "text": [
      "1\n"
     ]
    }
   ],
   "source": [
    "from queue import Queue\n",
    "q = Queue()\n",
    "q.put(1)  # Enqueue\n",
    "q.put(2)\n",
    "print(q.get())  # Dequeue (1)"
   ]
  },
  {
   "cell_type": "markdown",
   "metadata": {},
   "source": [
    "LINKED LIST"
   ]
  },
  {
   "cell_type": "markdown",
   "metadata": {},
   "source": [
    "Using Class"
   ]
  },
  {
   "cell_type": "code",
   "execution_count": 8,
   "metadata": {},
   "outputs": [],
   "source": [
    "class Node:\n",
    "    def __init__(self, data):\n",
    "        self.data = data\n",
    "        self.next = None\n",
    "\n",
    "class LinkedList:\n",
    "    def __init__(self):\n",
    "        self.head = None\n"
   ]
  },
  {
   "cell_type": "markdown",
   "metadata": {},
   "source": [
    "HEAP\n",
    "- Min Heap by default"
   ]
  },
  {
   "cell_type": "code",
   "execution_count": 9,
   "metadata": {},
   "outputs": [
    {
     "name": "stdout",
     "output_type": "stream",
     "text": [
      "1\n"
     ]
    }
   ],
   "source": [
    "import heapq\n",
    "heap = []\n",
    "heapq.heappush(heap, 3)\n",
    "heapq.heappush(heap, 1)\n",
    "heapq.heappush(heap, 2)\n",
    "print(heapq.heappop(heap))  # Output: 1 (smallest element)"
   ]
  },
  {
   "cell_type": "markdown",
   "metadata": {},
   "source": [
    "TREE"
   ]
  },
  {
   "cell_type": "code",
   "execution_count": 10,
   "metadata": {},
   "outputs": [],
   "source": [
    "class TreeNode:\n",
    "    def __init__(self, val=0):\n",
    "        self.val = val\n",
    "        self.left = None\n",
    "        self.right = None"
   ]
  },
  {
   "cell_type": "markdown",
   "metadata": {},
   "source": [
    "GRAPH\n",
    "- Ajacency List"
   ]
  },
  {
   "cell_type": "code",
   "execution_count": 12,
   "metadata": {},
   "outputs": [
    {
     "name": "stdout",
     "output_type": "stream",
     "text": [
      "defaultdict(<class 'list'>, {0: [1, 2], 1: [3]})\n"
     ]
    }
   ],
   "source": [
    "from collections import defaultdict\n",
    "graph = defaultdict(list)\n",
    "graph[0].append(1)\n",
    "graph[0].append(2)\n",
    "graph[1].append(3)\n",
    "\n",
    "print(graph)"
   ]
  },
  {
   "cell_type": "markdown",
   "metadata": {},
   "source": [
    "Pass by Value vs Reference\n",
    " - Immutable objects (int, float, string, tuple) behave like pass by value (modifications create new objects).\n",
    " - Mutable objects (list, dict, set) behave like pass by reference (modifications affect the original object).\n",
    " - To avoid modifying the original object, pass a copy of mutable objects."
   ]
  },
  {
   "cell_type": "markdown",
   "metadata": {},
   "source": [
    "Inorder Tree Traversal"
   ]
  },
  {
   "cell_type": "code",
   "execution_count": null,
   "metadata": {},
   "outputs": [],
   "source": [
    "from typing import Optional, List\n",
    "# Definition for a binary tree node.\n",
    "class TreeNode:\n",
    "    def __init__(self, val=0, left=None, right=None):\n",
    "        self.val = val  # Node value\n",
    "        self.left = left  # Left child\n",
    "        self.right = right  # Right child\n",
    "\n",
    "class Solution:\n",
    "    def inorderTraversal(self, root: Optional[TreeNode]) -> List[int]:\n",
    "        if not root:\n",
    "            return []  # If the tree is empty, return an empty list\n",
    "        \n",
    "        stack = []  # Stack to store nodes\n",
    "        inOrder = []  # List to store the inorder traversal result\n",
    "        current = root  # Start from the root node\n",
    "        \n",
    "        while current or stack:\n",
    "            # Traverse the left subtree first\n",
    "            while current:\n",
    "                stack.append(current)  # Push the node onto the stack\n",
    "                current = current.left  # Move to the left child\n",
    "            \n",
    "            # Process the node at the top of the stack\n",
    "            current = stack.pop()  # Pop the node\n",
    "            inOrder.append(current.val)  # Add the node's value to the result\n",
    "            \n",
    "            # Move to the right subtree\n",
    "            current = current.right\n",
    "        \n",
    "        return inOrder  # Return the inorder traversal result"
   ]
  },
  {
   "cell_type": "markdown",
   "metadata": {},
   "source": []
  }
 ],
 "metadata": {
  "kernelspec": {
   "display_name": "base",
   "language": "python",
   "name": "python3"
  },
  "language_info": {
   "codemirror_mode": {
    "name": "ipython",
    "version": 3
   },
   "file_extension": ".py",
   "mimetype": "text/x-python",
   "name": "python",
   "nbconvert_exporter": "python",
   "pygments_lexer": "ipython3",
   "version": "3.11.4"
  }
 },
 "nbformat": 4,
 "nbformat_minor": 2
}
